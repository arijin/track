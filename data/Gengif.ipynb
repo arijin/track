{
 "cells": [
  {
   "cell_type": "code",
   "execution_count": 1,
   "metadata": {},
   "outputs": [],
   "source": [
    "import cv2\n",
    "import imageio"
   ]
  },
  {
   "cell_type": "code",
   "execution_count": 5,
   "metadata": {},
   "outputs": [
    {
     "name": "stdout",
     "output_type": "stream",
     "text": [
      "start\n",
      "ending\n",
      "end\n"
     ]
    }
   ],
   "source": [
    "cv2.destroyAllWindows()\n",
    "framelist=[]\n",
    "sta=0\n",
    "cap = cv2.VideoCapture(\"./boat.mp4\")\n",
    "outfilename = \"./boat.gif\"\n",
    "while(True):\n",
    "    ret, frame = cap.read()\n",
    "    frame = cv2.cvtColor(frame, cv2.COLOR_BGR2RGB)\n",
    "    cv2.imshow(\"aaa\", frame)\n",
    "    key = cv2.waitKey(100)\n",
    "    if key==ord('s'):\n",
    "        print(\"start\")\n",
    "        sta=1\n",
    "    elif key==ord('q'):\n",
    "        print(\"ending\")\n",
    "        break\n",
    "    if sta==1:\n",
    "        framelist.append(frame)\n",
    "imageio.mimsave(outfilename, framelist, 'GIF', duration=0.05)\n",
    "print(\"end\")"
   ]
  },
  {
   "cell_type": "code",
   "execution_count": 6,
   "metadata": {},
   "outputs": [],
   "source": [
    "cv2.destroyAllWindows()"
   ]
  },
  {
   "cell_type": "code",
   "execution_count": null,
   "metadata": {},
   "outputs": [],
   "source": []
  }
 ],
 "metadata": {
  "kernelspec": {
   "display_name": "Python 3",
   "language": "python",
   "name": "python3"
  },
  "language_info": {
   "codemirror_mode": {
    "name": "ipython",
    "version": 3
   },
   "file_extension": ".py",
   "mimetype": "text/x-python",
   "name": "python",
   "nbconvert_exporter": "python",
   "pygments_lexer": "ipython3",
   "version": "3.6.3"
  }
 },
 "nbformat": 4,
 "nbformat_minor": 4
}
